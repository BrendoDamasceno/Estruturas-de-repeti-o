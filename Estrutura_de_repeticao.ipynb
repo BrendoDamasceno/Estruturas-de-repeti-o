{
  "nbformat": 4,
  "nbformat_minor": 0,
  "metadata": {
    "colab": {
      "provenance": []
    },
    "kernelspec": {
      "name": "python3",
      "display_name": "Python 3"
    },
    "language_info": {
      "name": "python"
    }
  },
  "cells": [
    {
      "cell_type": "markdown",
      "source": [
        "Estrutura de repetição"
      ],
      "metadata": {
        "id": "oU8C70EYbHS8"
      }
    },
    {
      "cell_type": "code",
      "source": [
        "#For range\n",
        "for contador in range(10):\n",
        "    print(contador)"
      ],
      "metadata": {
        "colab": {
          "base_uri": "https://localhost:8080/"
        },
        "id": "HdK4vpGtbMwK",
        "outputId": "6d26533e-ce4e-4d41-8cc8-397175de0e16"
      },
      "execution_count": 1,
      "outputs": [
        {
          "output_type": "stream",
          "name": "stdout",
          "text": [
            "0\n",
            "1\n",
            "2\n",
            "3\n",
            "4\n",
            "5\n",
            "6\n",
            "7\n",
            "8\n",
            "9\n"
          ]
        }
      ]
    },
    {
      "cell_type": "code",
      "source": [
        "#For range + break\n",
        "for contador in range(1000):\n",
        "  print(contador)\n",
        "  if contador == 2:\n",
        "    break"
      ],
      "metadata": {
        "colab": {
          "base_uri": "https://localhost:8080/"
        },
        "id": "l7Q883l0bVyO",
        "outputId": "bda2c267-f0ba-41c5-e1a6-b74e9cea0acf"
      },
      "execution_count": 2,
      "outputs": [
        {
          "output_type": "stream",
          "name": "stdout",
          "text": [
            "0\n",
            "1\n",
            "2\n"
          ]
        }
      ]
    },
    {
      "cell_type": "code",
      "source": [
        "lista = ['teste1', 'teste2']"
      ],
      "metadata": {
        "id": "qYoNZebWblaI"
      },
      "execution_count": 3,
      "outputs": []
    },
    {
      "cell_type": "code",
      "source": [
        "#For simples\n",
        "for val in lista:\n",
        "  print(val)"
      ],
      "metadata": {
        "colab": {
          "base_uri": "https://localhost:8080/"
        },
        "id": "u5UgqfYBbqdg",
        "outputId": "06a907af-4344-4dbf-af44-82a33aa79e62"
      },
      "execution_count": 4,
      "outputs": [
        {
          "output_type": "stream",
          "name": "stdout",
          "text": [
            "teste1\n",
            "teste2\n"
          ]
        }
      ]
    },
    {
      "cell_type": "code",
      "source": [
        "#for com enumerate\n",
        "for i, val in enumerate(lista):\n",
        "  print(i, val)"
      ],
      "metadata": {
        "colab": {
          "base_uri": "https://localhost:8080/"
        },
        "id": "2uOVqOYIbyIh",
        "outputId": "86477bb4-8d45-4fe4-d234-325a70aacac9"
      },
      "execution_count": 5,
      "outputs": [
        {
          "output_type": "stream",
          "name": "stdout",
          "text": [
            "0 teste1\n",
            "1 teste2\n"
          ]
        }
      ]
    },
    {
      "cell_type": "markdown",
      "source": [
        "For com operadores compostos"
      ],
      "metadata": {
        "id": "ViZgs0xLc07S"
      }
    },
    {
      "cell_type": "code",
      "source": [
        "lista2 = [2, 3, 4]"
      ],
      "metadata": {
        "id": "NLQsYpyGc8nS"
      },
      "execution_count": 6,
      "outputs": []
    },
    {
      "cell_type": "code",
      "source": [
        "for val in lista2:\n",
        "  val +=1\n",
        "  print(val)"
      ],
      "metadata": {
        "colab": {
          "base_uri": "https://localhost:8080/"
        },
        "id": "F4DpjTGuc_jo",
        "outputId": "9db3aed7-1fd6-42b1-f400-12133f27848c"
      },
      "execution_count": 7,
      "outputs": [
        {
          "output_type": "stream",
          "name": "stdout",
          "text": [
            "3\n",
            "4\n",
            "5\n"
          ]
        }
      ]
    },
    {
      "cell_type": "code",
      "source": [
        "for val in lista2:\n",
        "  val *=2\n",
        "  print(val)"
      ],
      "metadata": {
        "colab": {
          "base_uri": "https://localhost:8080/"
        },
        "id": "YPCETauZdS4q",
        "outputId": "fd4fc9d1-2abe-4a50-d74e-8c423201c90a"
      },
      "execution_count": 8,
      "outputs": [
        {
          "output_type": "stream",
          "name": "stdout",
          "text": [
            "4\n",
            "6\n",
            "8\n"
          ]
        }
      ]
    },
    {
      "cell_type": "markdown",
      "source": [
        "While"
      ],
      "metadata": {
        "id": "IsjZw1d8d_o5"
      }
    },
    {
      "cell_type": "code",
      "source": [
        "val = 1\n",
        "while (val < 10):\n",
        "  val *=2\n",
        "  print(val)"
      ],
      "metadata": {
        "colab": {
          "base_uri": "https://localhost:8080/"
        },
        "id": "jAlZtb4teA4-",
        "outputId": "b7866a13-a381-4458-e3a4-afaa1f9ffb6b"
      },
      "execution_count": 12,
      "outputs": [
        {
          "output_type": "stream",
          "name": "stdout",
          "text": [
            "2\n",
            "4\n",
            "8\n",
            "16\n"
          ]
        }
      ]
    },
    {
      "cell_type": "code",
      "source": [
        "# while com else\n",
        "val = 1\n",
        "while val < 10:\n",
        "  val *=2\n",
        "else:\n",
        "  print('Valor de val é:', val)"
      ],
      "metadata": {
        "colab": {
          "base_uri": "https://localhost:8080/"
        },
        "id": "yyqzFsC4ecjx",
        "outputId": "6e3f891b-c0f9-44ed-b234-155afdff38c9"
      },
      "execution_count": 14,
      "outputs": [
        {
          "output_type": "stream",
          "name": "stdout",
          "text": [
            "Valor de val é: 16\n"
          ]
        }
      ]
    }
  ]
}